{
    "cells": [
        {
            "cell_type": "code",
            "execution_count": 1,
            "metadata": {},
            "outputs": [
                {
                    "name": "stdout",
                    "output_type": "stream",
                    "text": "Waiting for a Spark session to start...\nSpark Initialization Done! ApplicationId = app-20200809170315-0000\nKERNEL_ID = 8691ff4c-cd69-43d2-b53f-fe6644c83d21\n"
                },
                {
                    "data": {
                        "text/plain": "[Row(id='3', name='Tim Elliot', date='2015-01-02', manner_of_death='shot', armed='gun', age='53.0', gender='M', race='Asian', city='Shelton', state='WA', signs_of_mental_illness='True', threat_level='attack', flee='Not fleeing', body_camera='False', arms_category='Guns'),\n Row(id='4', name='Lewis Lee Lembke', date='2015-01-02', manner_of_death='shot', armed='gun', age='47.0', gender='M', race='White', city='Aloha', state='OR', signs_of_mental_illness='False', threat_level='attack', flee='Not fleeing', body_camera='False', arms_category='Guns'),\n Row(id='5', name='John Paul Quintero', date='2015-01-03', manner_of_death='shot and Tasered', armed='unarmed', age='23.0', gender='M', race='Hispanic', city='Wichita', state='KS', signs_of_mental_illness='False', threat_level='other', flee='Not fleeing', body_camera='False', arms_category='Unarmed'),\n Row(id='8', name='Matthew Hoffman', date='2015-01-04', manner_of_death='shot', armed='toy weapon', age='32.0', gender='M', race='White', city='San Francisco', state='CA', signs_of_mental_illness='True', threat_level='attack', flee='Not fleeing', body_camera='False', arms_category='Other unusual objects'),\n Row(id='9', name='Michael Rodriguez', date='2015-01-04', manner_of_death='shot', armed='nail gun', age='39.0', gender='M', race='Hispanic', city='Evans', state='CO', signs_of_mental_illness='False', threat_level='attack', flee='Not fleeing', body_camera='False', arms_category='Piercing objects')]"
                    },
                    "execution_count": 1,
                    "metadata": {},
                    "output_type": "execute_result"
                }
            ],
            "source": "# The code was removed by Watson Studio for sharing."
        },
        {
            "cell_type": "code",
            "execution_count": null,
            "metadata": {},
            "outputs": [],
            "source": ""
        }
    ],
    "metadata": {
        "kernelspec": {
            "display_name": "Python 3.6 with Spark",
            "language": "python3",
            "name": "python36"
        },
        "language_info": {
            "codemirror_mode": {
                "name": "ipython",
                "version": 3
            },
            "file_extension": ".py",
            "mimetype": "text/x-python",
            "name": "python",
            "nbconvert_exporter": "python",
            "pygments_lexer": "ipython3",
            "version": "3.6.8"
        }
    },
    "nbformat": 4,
    "nbformat_minor": 1
}